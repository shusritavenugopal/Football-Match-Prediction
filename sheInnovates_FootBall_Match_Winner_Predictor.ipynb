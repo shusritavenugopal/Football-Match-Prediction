{
  "nbformat": 4,
  "nbformat_minor": 0,
  "metadata": {
    "colab": {
      "private_outputs": true,
      "provenance": [],
      "authorship_tag": "ABX9TyOQsuqXbJiMwDJh6mjrJaFE",
      "include_colab_link": true
    },
    "kernelspec": {
      "name": "python3",
      "display_name": "Python 3"
    },
    "language_info": {
      "name": "python"
    }
  },
  "cells": [
    {
      "cell_type": "markdown",
      "metadata": {
        "id": "view-in-github",
        "colab_type": "text"
      },
      "source": [
        "<a href=\"https://colab.research.google.com/github/shusritavenugopal/Football-Match-Prediction/blob/main/sheInnovates_FootBall_Match_Winner_Predictor.ipynb\" target=\"_parent\"><img src=\"https://colab.research.google.com/assets/colab-badge.svg\" alt=\"Open In Colab\"/></a>"
      ]
    },
    {
      "cell_type": "markdown",
      "source": [
        "# **EPL Match Predictor Model Using RandomForest Mchine Learning Model**"
      ],
      "metadata": {
        "id": "NcUrXK4XCE-R"
      }
    },
    {
      "cell_type": "code",
      "source": [
        "import pandas as pd"
      ],
      "metadata": {
        "id": "aleiBxp_b6Cq"
      },
      "execution_count": null,
      "outputs": []
    },
    {
      "cell_type": "markdown",
      "source": [
        "Use matches.csv data for this ML model.\n",
        "\n",
        "The file has more than thousand rows and each row is a single match played in the English Premier League."
      ],
      "metadata": {
        "id": "XGgYunMEB8Fk"
      }
    },
    {
      "cell_type": "code",
      "source": [
        "matches = pd.read_csv(\"https://raw.githubusercontent.com/shusritavenugopal/Football-Match-Prediction/main/matches.csv\",index_col=0)\n"
      ],
      "metadata": {
        "id": "SAgskPNZ882F"
      },
      "execution_count": null,
      "outputs": []
    },
    {
      "cell_type": "markdown",
      "source": [
        "### **Investing Missing Data**\n",
        "EPL has 38 matches in 1 season, 20 teams in 1 season. we have data for 2 seasons. We should have 1520 rows.\n",
        "\n",
        "3 teams are moved to the lower league. 3 teams are pulled up to the EPL."
      ],
      "metadata": {
        "id": "CiwzhcVPBpnK"
      }
    },
    {
      "cell_type": "code",
      "source": [
        "matches.shape"
      ],
      "metadata": {
        "id": "cHGTf-LdA55-"
      },
      "execution_count": null,
      "outputs": []
    },
    {
      "cell_type": "code",
      "source": [
        "matches[\"team\"].value_counts()"
      ],
      "metadata": {
        "id": "9kQzm0O6BgAY"
      },
      "execution_count": null,
      "outputs": []
    },
    {
      "cell_type": "code",
      "source": [
        "matches[matches[\"team\"] == \"Liverpool\"].sort_values(\"date\")\n",
        "# missing one season for liverpool"
      ],
      "metadata": {
        "id": "hs7nGbUJDa3N"
      },
      "execution_count": null,
      "outputs": []
    },
    {
      "cell_type": "code",
      "source": [
        "matches[\"round\"].value_counts()\n",
        "# Few matchweeks have lesser than 39 matches because the this data was scrapped while the league was still going on."
      ],
      "metadata": {
        "id": "hVAnnwklDrWC"
      },
      "execution_count": null,
      "outputs": []
    },
    {
      "cell_type": "markdown",
      "source": [
        "# Cleaning our data for Machine Learning\n",
        "\n",
        "ML models can only work with numeric datatypes. To avoid predictors with object datatype, we need to make new columns to convert object datatype to int64 or float64"
      ],
      "metadata": {
        "id": "K8OgmXH5EJo7"
      }
    },
    {
      "cell_type": "code",
      "source": [
        "matches.dtypes"
      ],
      "metadata": {
        "id": "KvrRb-0lEtPW"
      },
      "execution_count": null,
      "outputs": []
    },
    {
      "cell_type": "code",
      "source": [
        "# convert date column to correct dateTime format in pandas. This will help us use date column as predictor.\n",
        "matches[\"date\"] = pd.to_datetime(matches[\"date\"])\n",
        "matches.dtypes"
      ],
      "metadata": {
        "id": "6s5WB1EiFtri"
      },
      "execution_count": null,
      "outputs": []
    },
    {
      "cell_type": "markdown",
      "source": [
        "Creating Predictors for Machine Learning Model"
      ],
      "metadata": {
        "id": "h4zf1NhAGX-9"
      }
    },
    {
      "cell_type": "code",
      "source": [
        "matches[\"venue_code\"] = matches[\"venue\"].astype(\"category\").cat.codes\n",
        "matches\n",
        "# 0 when away, 1 when it was home game"
      ],
      "metadata": {
        "id": "7TpsTwdLGSKs"
      },
      "execution_count": null,
      "outputs": []
    },
    {
      "cell_type": "code",
      "source": [
        "# each code for a opponent team\n",
        "matches[\"opp_code\"] = matches[\"opponent\"].astype(\"category\").cat.codes\n",
        "matches"
      ],
      "metadata": {
        "id": "WGADt0JcG6Rw"
      },
      "execution_count": null,
      "outputs": []
    },
    {
      "cell_type": "code",
      "source": [
        "matches[\"hour\"] = matches[\"time\"].str.replace(\":.+\", \"\", regex=True).astype(\"int\")\n",
        "matches"
      ],
      "metadata": {
        "id": "XrjsxlWTHeGy"
      },
      "execution_count": null,
      "outputs": []
    },
    {
      "cell_type": "code",
      "source": [
        "matches[\"day_code\"] = matches[\"date\"].dt.dayofweek"
      ],
      "metadata": {
        "id": "G4gz3FxmI1EK"
      },
      "execution_count": null,
      "outputs": []
    },
    {
      "cell_type": "markdown",
      "source": [
        "# to predict won or not.\n"
      ],
      "metadata": {
        "id": "Op1t3BaNJLvJ"
      }
    },
    {
      "cell_type": "code",
      "source": [
        "matches[\"target\"] = (matches[\"result\"] == \"W\").astype(\"int\")"
      ],
      "metadata": {
        "id": "-C8AxO8tJ4Ij"
      },
      "execution_count": null,
      "outputs": []
    },
    {
      "cell_type": "code",
      "source": [
        "matches"
      ],
      "metadata": {
        "id": "hb8bPNPhKCGJ"
      },
      "execution_count": null,
      "outputs": []
    },
    {
      "cell_type": "markdown",
      "source": [
        "# Creating our initial machine learning model\n",
        "\n",
        "Training a machine learning model.\n",
        "\n",
        "RandomForest is a series of decision trees each decision trees will have slightly different parameters.\n",
        "\n",
        "We will import RandomForestclassifier. We are choosing random forest classifier because the random forest classifier is a type of machine learning model pick up non-linearities from the data. Opp_code doesn't have the linear relationship with the other data columns - They are just codes for different opponents. This is something linear model can't pick up.\n"
      ],
      "metadata": {
        "id": "9aSKWuPCKKvA"
      }
    },
    {
      "cell_type": "code",
      "source": [
        "from sklearn.ensemble import RandomForestClassifier"
      ],
      "metadata": {
        "id": "n5hwGO6ZKOm5"
      },
      "execution_count": null,
      "outputs": []
    },
    {
      "cell_type": "code",
      "source": [
        "# n_estimators -  number of individual decision trees we would want to train. Higher the number of decision trees, longer the time taken to train the model and higher the accuracy of the prediction.\n",
        "# min_samples_split - number of samples we want to have in a leaf of a decision tree before we split the node. Higher the value, lesser the chance of overfitting but accuracy is also less.\n",
        "# random state - If we run the random forest multiple times, we would still get the same results given that the data is same.\n",
        "\n",
        "rf = RandomForestClassifier(n_estimators=50, min_samples_split=10, random_state=1)"
      ],
      "metadata": {
        "id": "70ZOn2qQLjTL"
      },
      "execution_count": null,
      "outputs": []
    },
    {
      "cell_type": "markdown",
      "source": [
        "# This is a time series data.\n",
        "Splitting train and test data. - We need to make sure all the test data is chronologically after the train data. This is because in real time applications, we cannot train ML model with future data and predict the same. Training must be done with historic data."
      ],
      "metadata": {
        "id": "6YbhbmSaPKUg"
      }
    },
    {
      "cell_type": "code",
      "source": [
        "train = matches[matches[\"date\"] < '2022-01-01']"
      ],
      "metadata": {
        "id": "s5jxavPlOYNm"
      },
      "execution_count": null,
      "outputs": []
    },
    {
      "cell_type": "code",
      "source": [
        "test = matches[matches[\"date\"] > '2022-01-01']"
      ],
      "metadata": {
        "id": "Fs88QLYsPhBx"
      },
      "execution_count": null,
      "outputs": []
    },
    {
      "cell_type": "code",
      "source": [
        "predictors = [\"venue_code\", \"opp_code\", \"hour\", \"day_code\"]"
      ],
      "metadata": {
        "id": "LpCQpyrNPktw"
      },
      "execution_count": null,
      "outputs": []
    },
    {
      "cell_type": "markdown",
      "source": [
        "fit() - train the random forest model with the predictors like venue_code. opp_code, hour and day_code to predict target which is win."
      ],
      "metadata": {
        "id": "9iX0l2iiQO6t"
      }
    },
    {
      "cell_type": "code",
      "source": [
        "rf.fit(train[predictors], train[\"target\"])"
      ],
      "metadata": {
        "id": "Yk5VQT2xQMqm"
      },
      "execution_count": null,
      "outputs": []
    },
    {
      "cell_type": "markdown",
      "source": [
        "Now we can generate predictions using the predict method. Pass in our test data with predictors."
      ],
      "metadata": {
        "id": "8FU2BJEtQ-fD"
      }
    },
    {
      "cell_type": "code",
      "source": [
        "preds = rf.predict(test[predictors])"
      ],
      "metadata": {
        "id": "eye4Wt6rQ9jY"
      },
      "execution_count": null,
      "outputs": []
    },
    {
      "cell_type": "markdown",
      "source": [
        "Evaluation:\n",
        "\n",
        "Determine the accuracy of the model.\n",
        "1. Import accuracy_score. Accuracy_score is a metric that will say if you predicted a win, what percentage of the times your prediction accurate."
      ],
      "metadata": {
        "id": "BsNU6sSdRQI2"
      }
    },
    {
      "cell_type": "code",
      "source": [
        "from sklearn.metrics import accuracy_score"
      ],
      "metadata": {
        "id": "UIe_0g_vRcZW"
      },
      "execution_count": null,
      "outputs": []
    },
    {
      "cell_type": "code",
      "source": [
        "accuracy = accuracy_score(test[\"target\"], preds)\n",
        "accuracy"
      ],
      "metadata": {
        "id": "K_GvM91xSlD6"
      },
      "execution_count": null,
      "outputs": []
    },
    {
      "cell_type": "code",
      "source": [
        "combined = pd.DataFrame(dict(actual=test[\"target\"], prediction=preds))"
      ],
      "metadata": {
        "id": "lRFZhw1jTDJC"
      },
      "execution_count": null,
      "outputs": []
    },
    {
      "cell_type": "code",
      "source": [
        "pd.crosstab(index=combined[\"actual\"], columns=combined[\"prediction\"])"
      ],
      "metadata": {
        "id": "kC0-NJiRe6Zi"
      },
      "execution_count": null,
      "outputs": []
    },
    {
      "cell_type": "markdown",
      "source": [
        "The model predicted win more incorrectly than loss."
      ],
      "metadata": {
        "id": "IPZxJhdBhnTb"
      }
    },
    {
      "cell_type": "code",
      "source": [
        "import matplotlib.pyplot as plt\n",
        "plt.figure(figsize=(10, 6))\n",
        "plt.scatter(combined.index, combined['actual'], label='Actual', marker='o')\n",
        "plt.scatter(combined.index, combined['prediction'], label='Predicted', marker='x')\n",
        "plt.xlabel('Index')\n",
        "plt.ylabel('Values')\n",
        "plt.title('Actual vs Predicted Values')\n",
        "plt.legend()\n",
        "plt.show()"
      ],
      "metadata": {
        "id": "WBRxgGuZUvbf"
      },
      "execution_count": null,
      "outputs": []
    },
    {
      "cell_type": "code",
      "source": [
        "from sklearn.metrics import precision_score\n",
        "\n",
        "precision_score(test[\"target\"], preds)"
      ],
      "metadata": {
        "id": "8Vp9FId4i7tn"
      },
      "execution_count": null,
      "outputs": []
    },
    {
      "cell_type": "markdown",
      "source": [
        "When we predicted a win, a team won only 47% of the times. The precision is pretty bad. We can improve the model."
      ],
      "metadata": {
        "id": "E-H730YdjUEi"
      }
    },
    {
      "cell_type": "markdown",
      "source": [
        "Improving Precision with Rolling Averages of a team.  \n",
        "If we are at matchweek 4, how did a team perform in the previous three match weeks. We can compute the rolling averages to know the performance of last three matches and use that as a predictor in out model."
      ],
      "metadata": {
        "id": "jUsstOp0jnXu"
      }
    },
    {
      "cell_type": "code",
      "source": [
        "# This will create a dataframe for each team.\n",
        "grouped_matches = matches.groupby(\"team\")"
      ],
      "metadata": {
        "id": "YH46-a6wjqSy"
      },
      "execution_count": null,
      "outputs": []
    },
    {
      "cell_type": "code",
      "source": [
        "group = grouped_matches.get_group(\"Manchester City\").sort_values(\"date\")\n",
        "group"
      ],
      "metadata": {
        "id": "ugdEsYQzsy-d"
      },
      "execution_count": null,
      "outputs": []
    },
    {
      "cell_type": "code",
      "source": [
        "def rolling_averages(group, cols, new_cols):\n",
        "  group = group.sort_values(\"date\")\n",
        "  rolling_stats = group[cols].rolling(3, closed='left').mean()\n",
        "  group[new_cols] = rolling_stats\n",
        "  # dropping missing values.\n",
        "  group = group.dropna(subset=new_cols)\n",
        "  return group"
      ],
      "metadata": {
        "id": "KjWiy582kBc2"
      },
      "execution_count": null,
      "outputs": []
    },
    {
      "cell_type": "markdown",
      "source": [
        "These are the columns for which we will compute rolling averages for."
      ],
      "metadata": {
        "id": "AWfoTmnJmegP"
      }
    },
    {
      "cell_type": "code",
      "source": [
        "# These columsn are present in the csv file - \"goals_for\", \"goals_against\", \"shots\", \"shots_on_target\", \"distance\", \"free_kicks\", \"penalty_kicks\", \"penalty_kick_attempts\"\n",
        "\n",
        "cols = [\"gf\", \"ga\", \"sh\", \"sot\", \"dist\", \"fk\", \"pk\", \"pkatt\"]\n",
        "new_cols = [f\"{c}_rolling\" for c in cols]\n",
        "new_cols"
      ],
      "metadata": {
        "id": "Mly-tTcCmeL4"
      },
      "execution_count": null,
      "outputs": []
    },
    {
      "cell_type": "code",
      "source": [
        "# Let's call rolling_averages for a single group\n",
        "rolling_averages(group, cols, new_cols)"
      ],
      "metadata": {
        "id": "CJnbEmmjwtRI"
      },
      "execution_count": null,
      "outputs": []
    },
    {
      "cell_type": "markdown",
      "source": [
        "We have successfully added rolling averages for \"goals_for\", \"goals_against\", \"shots\", \"shots_on_target\", \"distance\", \"free_kicks\", \"penalty_kicks\", \"penalty_kick_attempts\" columns. These columns can now be passed to the ML model as predictors to increase the accuracy and precision."
      ],
      "metadata": {
        "id": "z9RHD5HGxoGJ"
      }
    },
    {
      "cell_type": "code",
      "source": [
        "# Let's apply the rolling averages for all the teams and matches. We will groupby teams and compute rolling averages.\n",
        "matches_rolling = matches.groupby(\"team\").apply(lambda x: rolling_averages(x, cols, new_cols))\n",
        "matches_rolling"
      ],
      "metadata": {
        "id": "ZawaEm9Fxnzp"
      },
      "execution_count": null,
      "outputs": []
    },
    {
      "cell_type": "code",
      "source": [
        "matches_rolling = matches_rolling.droplevel('team')"
      ],
      "metadata": {
        "id": "NhcD1I6xyzOe"
      },
      "execution_count": null,
      "outputs": []
    },
    {
      "cell_type": "code",
      "source": [
        "matches_rolling"
      ],
      "metadata": {
        "id": "-aU-UPBSzyfU"
      },
      "execution_count": null,
      "outputs": []
    },
    {
      "cell_type": "code",
      "source": [
        "matches_rolling.index = range(matches_rolling.shape[0])"
      ],
      "metadata": {
        "id": "S9Oe5swLzz_V"
      },
      "execution_count": null,
      "outputs": []
    },
    {
      "cell_type": "markdown",
      "source": [
        "# Retraining our machine learning model using rolling averages as predictors."
      ],
      "metadata": {
        "id": "TPQl2UUG0OTT"
      }
    },
    {
      "cell_type": "code",
      "source": [
        "def make_predictions(data, predictors):\n",
        "    train = data[data[\"date\"] < '2022-01-01']\n",
        "    test = data[data[\"date\"] > '2022-01-01']\n",
        "    rf.fit(train[predictors], train[\"target\"])\n",
        "    preds = rf.predict(test[predictors])\n",
        "    combined = pd.DataFrame(dict(actual=test[\"target\"], predicted=preds), index=test.index)\n",
        "    precision = precision_score(test[\"target\"], preds)\n",
        "    return combined, precision"
      ],
      "metadata": {
        "id": "sFee75Hp4_cU"
      },
      "execution_count": null,
      "outputs": []
    },
    {
      "cell_type": "code",
      "source": [
        "combined, precision = make_predictions(matches_rolling, predictors + new_cols)"
      ],
      "metadata": {
        "id": "P_CSnaek5QNw"
      },
      "execution_count": null,
      "outputs": []
    },
    {
      "cell_type": "code",
      "source": [
        "precision"
      ],
      "metadata": {
        "id": "S9ONboLH5cwC"
      },
      "execution_count": null,
      "outputs": []
    },
    {
      "cell_type": "code",
      "source": [
        "combined\n",
        "pd.crosstab(index=combined[\"actual\"], columns=combined[\"predicted\"])"
      ],
      "metadata": {
        "id": "2KH0dtgzjVEn"
      },
      "execution_count": null,
      "outputs": []
    },
    {
      "cell_type": "code",
      "source": [
        "combined = combined.merge(matches_rolling[['date', \"team\", \"opponent\", \"result\"]], left_index = True, right_index=True )"
      ],
      "metadata": {
        "id": "WlylGITA5wcH"
      },
      "execution_count": null,
      "outputs": []
    },
    {
      "cell_type": "code",
      "source": [
        "combined"
      ],
      "metadata": {
        "id": "kbXKjreK6PBX"
      },
      "execution_count": null,
      "outputs": []
    },
    {
      "cell_type": "markdown",
      "source": [
        "Combining Home and Away Predictions"
      ],
      "metadata": {
        "id": "YJgUN8Pu6VEk"
      }
    },
    {
      "cell_type": "code",
      "source": [
        "class MissingDict(dict):\n",
        "    __missing__ = lambda self, key: key\n",
        "\n",
        "map_values = {\"Brighton and Hove Albion\": \"Brighton\", \"Manchester United\": \"Manchester Utd\", \"Newcastle United\": \"Newcastle Utd\", \"Tottenham Hotspur\": \"Tottenham\", \"West Ham United\": \"West Ham\", \"Wolverhampton Wanderers\": \"Wolves\"}\n",
        "mapping = MissingDict(**map_values)"
      ],
      "metadata": {
        "id": "kwe-y4AI6gkP"
      },
      "execution_count": null,
      "outputs": []
    },
    {
      "cell_type": "code",
      "source": [
        "combined[\"new_team\"] = combined[\"team\"].map(mapping)"
      ],
      "metadata": {
        "id": "09nkvlBg6wFw"
      },
      "execution_count": null,
      "outputs": []
    },
    {
      "cell_type": "code",
      "source": [
        "merged = combined.merge(combined, left_on=[\"date\", \"new_team\"], right_on=[\"date\", \"opponent\"])\n",
        "merged"
      ],
      "metadata": {
        "id": "Xub4qyxV6zh4"
      },
      "execution_count": null,
      "outputs": []
    },
    {
      "cell_type": "code",
      "source": [
        "merged[(merged[\"predicted_x\"] == 1) & (merged[\"predicted_y\"] ==0)][\"actual_x\"].value_counts()"
      ],
      "metadata": {
        "id": "Vyrrj-wd65HE"
      },
      "execution_count": null,
      "outputs": []
    },
    {
      "cell_type": "code",
      "source": [
        "27 / 40 * 100"
      ],
      "metadata": {
        "id": "1aVhGDMK7LvI"
      },
      "execution_count": null,
      "outputs": []
    }
  ]
}